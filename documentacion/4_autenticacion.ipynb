{
 "cells": [
  {
   "cell_type": "markdown",
   "metadata": {},
   "source": [
    "# Autenticacion"
   ]
  },
  {
   "cell_type": "markdown",
   "metadata": {},
   "source": [
    "## Flujo de Autenticacion\n",
    "\n",
    "Ahora empezaremos con el módulo de autenticaciones pero antes quiero explicarte un poco acerca de lo que estaremos realizando en nuestra aplicación y cómo será el proceso de autenticación y autorización.\n",
    "\n",
    "### Ruta para iniciar sesión\n",
    "\n",
    "Lo que obtendremos como resultado al final de este módulo es la protección de determinadas rutas de nuestra aplicación para las cuales solo se podrá acceder mediante el inicio de sesión del usuario. Para esto crearemos una ruta que utilice el método POST donde se solicitarán los datos como email y contraseña.\n",
    "\n",
    "### Creación y envío de token\n",
    "\n",
    "Luego de que el usuario ingrese sus datos de sesión correctos este obtendrá un token que le servirá para enviarlo al momento de hacer una petición a una ruta protegida.\n",
    "\n",
    "### Validación de token\n",
    "\n",
    "Al momento de que nuestra API reciba la petición del usuario, comprobará que este le haya enviado el token y validará si es correcto y le pertenece. Finalmente se le dará acceso a la ruta que está solicitando.\n",
    "\n",
    "En la siguiente clase empezaremos con la creación de una función que nos va a permitir generar tokens usando la librería **pyjwt**.\n",
    "\n",
    "pyJWT (Python JSON Web Token) es una biblioteca de Python que se utiliza para codificar y decodificar tokens JWT (JSON Web Token). Un token JWT es un objeto de seguridad que se utiliza para autenticar a los usuarios en aplicaciones web y móviles. Los tokens JWT se emiten por un servidor de autenticación y luego se envían al cliente, que los utiliza para demostrar su identidad al acceder a recursos protegidos en el servidor"
   ]
  },
  {
   "cell_type": "markdown",
   "metadata": {},
   "source": [
    "## Generando tokens con pyjwt\n",
    "\n",
    "Se generara un token luego que el usuario inicie seccion en la aplicacion. Dicho token servira para enviarlo a determinadas rutas que esten protegidas en la aplicacion.\n",
    "\n",
    "Se añade el modulo *pyjwt* a requirementes. Se crea un nuevo archivo: **jwt_manager.py**, donde se implementa la funcion *create_token*\n",
    "\n",
    "```py\n",
    "from jwt import encode\n",
    "\n",
    "def create_token(data:dict):\n",
    "    token: str = encode(payload=data, key=\"my_secret_key\", algorithm=\"HS256\")\n",
    "    return token\n",
    "```\n",
    "encode tiene varios parametros\n",
    "\n",
    "- payload: el contenido que se va convertir\n",
    "\n",
    "### dentro de main.py\n",
    "\n",
    "Se importa el modulo. Se crea un nuevo modelo que permita añadir informacion del usuario:\n",
    "\n",
    "```py\n",
    "class User(BaseModel):\n",
    "    username: str\n",
    "    email: str\n",
    "    password: str\n",
    "```\n",
    "\n",
    "Y una nueva ruta que permita el login del usuario:\n",
    "\n",
    "```py\n",
    "@app.post('/login', tags=['auth'], status_code=201)\n",
    "def login(user: User):\n",
    "    user = dict(user)\n",
    "    return JSONResponse(content={\"message\": \"welcome user\",\n",
    "                                 \"new_user\": user[\"username\"]}, status_code=201)\n",
    "```\n",
    "\n",
    "Prueba dentro de la documentacion, que la ruta este bien, y no este generando ningun error."
   ]
  },
  {
   "cell_type": "markdown",
   "metadata": {},
   "source": [
    "## Validando Tokens\n",
    "\n"
   ]
  }
 ],
 "metadata": {
  "language_info": {
   "name": "python"
  }
 },
 "nbformat": 4,
 "nbformat_minor": 2
}
