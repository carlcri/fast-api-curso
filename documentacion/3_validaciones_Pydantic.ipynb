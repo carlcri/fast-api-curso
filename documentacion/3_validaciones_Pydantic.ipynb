{
 "cells": [
  {
   "cell_type": "markdown",
   "metadata": {},
   "source": [
    "# Validaciones con Pydantic"
   ]
  },
  {
   "cell_type": "markdown",
   "metadata": {},
   "source": [
    "## Creacion de esquemas\n",
    "\n",
    "Crearemos un esquema de datos que contenga toda la informacion relacionada con una pelicula. \n",
    "\n",
    "```py\n",
    "from pydantic import BaseModel\n",
    "...\n",
    "...\n",
    "class Movie(BaseModel):\n",
    "    id: int | None = None\n",
    "    title: str \n",
    "    year: int\n",
    "    rating: float\n",
    "    category: str\n",
    "```\n",
    "Ya tenemos los atributos de la clase Movie, la cual hereda de BaseModel, y contiene todos los atributos que contiene una pelicula. \n",
    "\n",
    "### Que significa: id: int | None = None \n",
    "\n",
    "*id: int | None = None* es una forma de declarar un parámetro en una función o en una clase:\n",
    "\n",
    "- id: Esto es el nombre del parámetro. En este caso, se está declarando un parámetro llamado id.\n",
    "\n",
    "- *int | None*: Esto es una anotación de tipo. En este caso, significa que el parámetro id puede ser de tipo **int** (número entero) o puede ser **None** (es decir, no tener valor). El operador | denota una unión de tipos, lo que indica que el parámetro puede ser de cualquiera de los tipos mencionados.\n",
    "\n",
    "- *= None*: Esto es un valor por defecto. En este caso, el valor por defecto para id es None. Esto significa que si no se proporciona un valor para id al llamar a la función, se asumirá que su valor es **None**.\n",
    "\n",
    "Se puede remplazar por:\n",
    "\n",
    "```py\n",
    "id: Optional[int] = None\n",
    "```\n",
    "\n",
    "Siempre y cuando se importe:\n",
    "\n",
    "```py\n",
    "from typing import Optional\n",
    "```"
   ]
  },
  {
   "cell_type": "markdown",
   "metadata": {},
   "source": [
    "### Modificando POST\n",
    "\n",
    "Ojo tiene un bug, que ahora vamos a corregir 🐞\n",
    "\n",
    "```py\n",
    "@app.post('/movies', tags=['movies'])\n",
    "def create_movie(movie: Movie):  👈  \n",
    "    movies.append(movie)\n",
    "\n",
    "    return movie\n",
    "```\n",
    "- Quiere decir que va requerir una *movie* de tipo *Movie*\n",
    "\n",
    "#### Corrigiendo el bug.\n",
    "\n",
    "Al momento de ir al navegador y hacer una peticion, para consultar la pelicula que se acabo de crear:\n",
    "\n",
    "    http://127.0.0.1:5000/movies/101\n",
    "\n",
    "Mostraba el siguiente error:\n",
    "\n",
    "    if item['id'] == id:\n",
    "    TypeError: 'Movie' object is not subscriptable\n",
    "\n",
    "Esto es por el tipo de datos como se esta guardando, pues lo esta guardando como tipo *main.Movie*, asi que antes de guardarlo, hay que convertirlo a diccionario.\n",
    "\n",
    "```py\n",
    "@app.post('/movies', tags=['movies'])\n",
    "def create_movie(movie: Movie):    \n",
    "    movies.append(dict(movie)) 👈\n",
    "\n",
    "    return movie\n",
    "```\n"
   ]
  },
  {
   "cell_type": "markdown",
   "metadata": {},
   "source": [
    "### Modificando PUT\n",
    "\n",
    "```py\n",
    "@app.put('/movies/{id}', tags=['movies'])\n",
    "def update_movie(id: int, movie: Movie):\n",
    "    \n",
    "    for movie in movies:\n",
    "        if movie['id'] == id:\n",
    "            \n",
    "            movie['title'] = movie.title\n",
    "            movie['year'] = movie.year\n",
    "            movie['rating'] = movie.rating\n",
    "            movie['category'] = movie.category\n",
    "            break\n",
    "    \n",
    "    return movie\n",
    "```\n",
    "\n",
    "### Verificando Esquema\n",
    "\n",
    "![](https://i.imgur.com/wS1AJo0.png)"
   ]
  },
  {
   "cell_type": "markdown",
   "metadata": {},
   "source": [
    "## Validaciones de tipos de datos\n",
    "\n"
   ]
  }
 ],
 "metadata": {
  "language_info": {
   "name": "python"
  }
 },
 "nbformat": 4,
 "nbformat_minor": 2
}
