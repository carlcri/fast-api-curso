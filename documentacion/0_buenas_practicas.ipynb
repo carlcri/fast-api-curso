{
 "cells": [
  {
   "cell_type": "markdown",
   "metadata": {},
   "source": [
    "# Curso de FastAPI: Introducción, Operaciones, Validaciones y Autenticación\n",
    "\n",
    "Instructor: Pablo España\n",
    "\n",
    "https://www.linkedin.com/in/pabloesdev/\n",
    "\n",
    "## Repositorio\n",
    "\n",
    "https://github.com/carlcri/fast-api-curso\n",
    "\n",
    "## Docker \n",
    "\n",
    "Se creo un *Dockerfile* y un *docker-compose.yml* de tal forma se trabajara en un servicio dockerizado de docker en lugar de mi maquina virtual, si asi se prefiere.\n",
    "\n",
    "Solo se debes ejecutar:\n",
    "\n",
    "    docker compose build\n",
    "    docker compose up\n",
    "\n",
    "Si quiere levantar el servicio en modo detach:\n",
    "\n",
    "    docker compose up -d\n",
    "\n",
    "Los cambios que realizes dentro del contexto de build, se veran reflejados en la aplicacion. \n"
   ]
  },
  {
   "cell_type": "markdown",
   "metadata": {},
   "source": [
    "### Optimizando la imagen\n",
    "\n",
    "En la primera dockerizacion de la implmentacion se noto, la imagen era muy grande: alrededor de 1.05GB.\n",
    "\n",
    "![](https://i.imgur.com/hU5m97Y.png)\n",
    "\n",
    "Entonces se copio todo lo del folder *my-movie-api* en **my-api-alpine**. Alpine es una version muy ligera. Posteriormente de hacer algunos cambios tanto en el *Dockerfile* como en el *docker-compose.yml*, se encontro que la imagen se redujo a 139MB. 🤯🤯"
   ]
  },
  {
   "cell_type": "markdown",
   "metadata": {},
   "source": [
    "Si vas a correr una terminal dentro de *alpine* no uses *bash* sino *sh*, por ejemplo:\n",
    "\n",
    "```sh\n",
    "docker compose up -d\n",
    "docker exec -it 188284c444bb sh\n",
    "```"
   ]
  }
 ],
 "metadata": {
  "language_info": {
   "name": "python"
  }
 },
 "nbformat": 4,
 "nbformat_minor": 2
}
