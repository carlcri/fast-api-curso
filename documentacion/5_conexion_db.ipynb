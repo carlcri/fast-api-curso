{
 "cells": [
  {
   "cell_type": "markdown",
   "metadata": {},
   "source": [
    "# Conexión con bases de datos\n",
    "\n",
    "Siendo este curso la continuacion del otro. No se crea un repositorio nuevo. Copiaremos todo el contenido de la carpeta *my-api-alpine* donde esta dockerizada mi aplicacion, a una nueva para este modulo:\n",
    "\n",
    "**db-alpine**"
   ]
  },
  {
   "cell_type": "markdown",
   "metadata": {},
   "source": [
    "## SQLAlchemy: el ORM de FastAPI\n",
    "\n",
    "- Conexion a BD \n",
    "- Modularizacion\n",
    "- Despliegue: en un droplet de Digital Ocean\n",
    "\n",
    "Al final vamos a tener una carpeta de esta forma:\n",
    "\n",
    "![](https://i.imgur.com/rqivUqm.png)\n",
    "\n",
    "### ¿Que es un ORM?\n",
    "\n",
    "Es una libreria que nos permite la manipulacion de tablas de BD como si fueran objetos de nuestra aplicacion. Existen varios ORMs pero usaremos SQLAlquemy, que permite al acceso a una base de datos relacional mapeando tablas SQL a clases.\n"
   ]
  },
  {
   "cell_type": "markdown",
   "metadata": {},
   "source": [
    "## Instalación y configuración de SQLAlchemy\n",
    "\n",
    "Lo primero es instalar la extension *SQlite viewer*, lo añadimos a *requirements.txt*. Pero antes, me gustaria que supieras como\n",
    "\n",
    "### Entendiendo el modulo os.path\n",
    "\n",
    "The *os.path module* in Python provides a way to work with file paths and directories. The *os.path.dirname* function, in particular, is used to extract the directory portion from a given file path.\n",
    "\n",
    "- Directory Only: It returns the directory portion of the file path, excluding the file name itself.\n",
    "\n",
    "- Use Case: This function is commonly used when you want to extract the directory from a file path in order to perform operations like creating directories, moving files, or navigating the file system."
   ]
  },
  {
   "cell_type": "code",
   "execution_count": 3,
   "metadata": {},
   "outputs": [
    {
     "name": "stdout",
     "output_type": "stream",
     "text": [
      "/home/carlos/Documents/fast_api_curso\n"
     ]
    }
   ],
   "source": [
    "import os\n",
    "\n",
    "# Example file path\n",
    "\n",
    "file_path = '/home/carlos/Documents/fast_api_curso/delete.html'\n",
    "\n",
    "# Using os.path.dirname to get the directory\n",
    "directory = os.path.dirname(file_path)\n",
    "\n",
    "# Print the result\n",
    "print(directory)"
   ]
  },
  {
   "cell_type": "markdown",
   "metadata": {},
   "source": [
    "Aqui acabo de extraer el directorio del archivo"
   ]
  },
  {
   "cell_type": "markdown",
   "metadata": {},
   "source": [
    "### The __ file __ Variable in Python\n",
    "\n",
    "The double underscore surrounding the name of some variables and methods is also known as a dunder in Python. Any variable or method whose name is surrounded by a dunder is a special variable or method by convention. \n",
    "\n",
    "#### Ejemplo\n",
    "\n",
    "Supongamos creo un archivo delete.py, en el siguiente directorio: */home/carlos/Documents/fast_api_curso/db-alpine*\n",
    "\n",
    "```py\n",
    "import os\n",
    "\n",
    "print(os.path.dirname(__file__))\n",
    "print(os.path.realpath(__file__))\n",
    "\n",
    "```\n",
    "\n",
    "Output:\n",
    "\n",
    "**/home/carlos/Documents/fast_api_curso/db-alpine**\n",
    "\n",
    "**/home/carlos/Documents/fast_api_curso/db-alpine/delete.py**\n",
    "\n",
    "En la primera parte me muestra la ruta completa sin el archivo, y en la segunda con el archivo."
   ]
  },
  {
   "cell_type": "markdown",
   "metadata": {},
   "source": [
    "### Configurando la conexion\n",
    "\n",
    "Creamos una nueva carpeta llamada *config* y dentro dos archivos: \n",
    "\n",
    "- *database.py* \n",
    "- *__ init __.py*\n",
    "\n",
    "#### database.py\n",
    "\n",
    "```py\n",
    "import os\n",
    "\n",
    "sqlite_file_name = \"database.sqlite\"\n",
    "base_dir = os.path.dirname(os.path.realpath(__file__))\n",
    "database_url = f\"sqlite:///{os.path.join(base_dir,sqlite_file_name)}\"\n",
    "```\n",
    "\n",
    "Donde:\n",
    "\n",
    "- base_dir = /home/carlos/Documents/fast_api_curso/db-alpine/config\n",
    "\n",
    "- database_url = sqlite:////home/carlos/Documents/fast_api_curso/db-alpine/config/database.sqlite\n",
    "\n",
    "Continuamos:\n",
    "\n",
    "```py\n",
    "engine = create_engine(database_url, echo=True)\n",
    "Session = sessionmaker(bind=engine)\n",
    "Base = declarative_base()\n",
    "```\n"
   ]
  },
  {
   "cell_type": "markdown",
   "metadata": {},
   "source": [
    "## Creacion de los modelos\n",
    "\n",
    "Se crea una nueva carpeta llamada *models* y dentro dos archivos:\n",
    "\n",
    "-  *__ init __*. \n",
    "\n",
    "- movie.py\n",
    "\n",
    "### Archivo movie.py\n",
    "\n",
    "```py\n",
    "from sqlalchemy import Column, Integer, String, Float\n",
    "from config.database import Base\n",
    "\n",
    "class Movie(Base):\n",
    "\n",
    "    __tablename__ = 'movies'\n",
    "\n",
    "    id = Column(Integer, primary_key=True)\n",
    "    title = Column(String)\n",
    "    year = Column(Integer)\n",
    "    rating = Column(Float)\n",
    "    category = Column(String)\n",
    "```"
   ]
  }
 ],
 "metadata": {
  "kernelspec": {
   "display_name": "Python 3",
   "language": "python",
   "name": "python3"
  },
  "language_info": {
   "codemirror_mode": {
    "name": "ipython",
    "version": 3
   },
   "file_extension": ".py",
   "mimetype": "text/x-python",
   "name": "python",
   "nbconvert_exporter": "python",
   "pygments_lexer": "ipython3",
   "version": "3.10.12"
  }
 },
 "nbformat": 4,
 "nbformat_minor": 2
}
