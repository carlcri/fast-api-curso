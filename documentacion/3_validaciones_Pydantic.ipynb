{
 "cells": [
  {
   "cell_type": "markdown",
   "metadata": {},
   "source": [
    "# Validaciones con Pydantic"
   ]
  },
  {
   "cell_type": "markdown",
   "metadata": {},
   "source": [
    "## Creacion de esquemas\n",
    "\n",
    "Crearemos un esquema de datos que contenga toda la informacion relacionada con una pelicula. \n",
    "\n",
    "```py\n",
    "from pydantic import BaseModel\n",
    "...\n",
    "...\n",
    "class Movie(BaseModel):\n",
    "    id: int | None = None\n",
    "    title: str \n",
    "    year: int\n",
    "    rating: float\n",
    "    category: str\n",
    "```\n",
    "Ya tenemos los atributos de la clase Movie, la cual hereda de BaseModel, y contiene todos los atributos que contiene una pelicula. \n",
    "\n",
    "### Que significa: id: int | None = None \n",
    "\n",
    "*id: int | None = None* es una forma de declarar un parámetro en una función o en una clase:\n",
    "\n",
    "- id: Esto es el nombre del parámetro. En este caso, se está declarando un parámetro llamado id.\n",
    "\n",
    "- *int | None*: Esto es una anotación de tipo. En este caso, significa que el parámetro id puede ser de tipo **int** (número entero) o puede ser **None** (es decir, no tener valor). El operador | denota una unión de tipos, lo que indica que el parámetro puede ser de cualquiera de los tipos mencionados.\n",
    "\n",
    "- *= None*: Esto es un valor por defecto. En este caso, el valor por defecto para id es None. Esto significa que si no se proporciona un valor para id al llamar a la función, se asumirá que su valor es **None**.\n",
    "\n",
    "Se puede remplazar por:\n",
    "\n",
    "```py\n",
    "id: Optional[int] = None\n",
    "```\n",
    "\n",
    "Siempre y cuando se importe:\n",
    "\n",
    "```py\n",
    "from typing import Optional\n",
    "```"
   ]
  },
  {
   "cell_type": "markdown",
   "metadata": {},
   "source": [
    "### Modificando POST\n",
    "\n",
    "Ojo tiene un bug, que ahora vamos a corregir 🐞\n",
    "\n",
    "```py\n",
    "@app.post('/movies', tags=['movies'])\n",
    "def create_movie(movie: Movie):  👈  \n",
    "    movies.append(movie)\n",
    "\n",
    "    return movie\n",
    "```\n",
    "- Quiere decir que va requerir una *movie* de tipo *Movie*\n",
    "\n",
    "#### Corrigiendo el bug.\n",
    "\n",
    "Al momento de ir al navegador y hacer una peticion, para consultar la pelicula que se acabo de crear:\n",
    "\n",
    "    http://127.0.0.1:5000/movies/101\n",
    "\n",
    "Mostraba el siguiente error:\n",
    "\n",
    "    if item['id'] == id:\n",
    "    TypeError: 'Movie' object is not subscriptable\n",
    "\n",
    "Esto es por el tipo de datos como se esta guardando, pues lo esta guardando como tipo *main.Movie*, asi que antes de guardarlo, hay que convertirlo a diccionario.\n",
    "\n",
    "```py\n",
    "@app.post('/movies', tags=['movies'])\n",
    "def create_movie(movie: Movie):    \n",
    "    movies.append(dict(movie)) 👈\n",
    "\n",
    "    return movie\n",
    "```\n"
   ]
  },
  {
   "cell_type": "markdown",
   "metadata": {},
   "source": [
    "### Modificando PUT\n",
    "\n",
    "```py\n",
    "@app.put('/movies/{id}', tags=['movies'])\n",
    "def update_movie(id: int, movie: Movie):\n",
    "    \n",
    "    for movie in movies:\n",
    "        if movie['id'] == id:\n",
    "            \n",
    "            movie['title'] = movie.title\n",
    "            movie['year'] = movie.year\n",
    "            movie['rating'] = movie.rating\n",
    "            movie['category'] = movie.category\n",
    "            break\n",
    "    \n",
    "    return movie\n",
    "```\n",
    "\n",
    "### Verificando Esquema\n",
    "\n",
    "![](https://i.imgur.com/wS1AJo0.png)"
   ]
  },
  {
   "cell_type": "markdown",
   "metadata": {},
   "source": [
    "## Validaciones de tipos de datos\n",
    "\n",
    "Hay cierto tipo de validaciones que ya estan integradas con FastAPI. Por ejemplo vamos a usar el metodo POST y en el body no enviaremos cualquier parametro, por ejemplo el *rating*:\n",
    "\n",
    "{\n",
    "  \"id\": 0,\n",
    "  \"title\": \"string\",\n",
    "  \"year\": 0,\n",
    "  \"category\": \"string\"\n",
    "}\n",
    "\n",
    "Nos retornara un error *422 Unprocessable Entity*. \n",
    "\n",
    "![](https://i.imgur.com/HS108LI.png)"
   ]
  },
  {
   "cell_type": "markdown",
   "metadata": {},
   "source": [
    "O por ejemplo, al realizar otra peticion con el metodo GET y en ves de enviar un *integer*, enviarmos un texto:\n",
    "\n",
    "    http://127.0.0.1:5000/movies/a\n",
    "\n",
    "Y mostrara:\n",
    "\n",
    "{\"detail\":[{\"type\":\"int_parsing\",\"loc\":[\"path\",\"id\"],\"msg\":\"Input should be a valid integer, unable to parse string as an integer\",\"input\":\"a\",\"url\":\"https://errors.pydantic.dev/2.4/v/int_parsing\"}]}"
   ]
  },
  {
   "cell_type": "markdown",
   "metadata": {},
   "source": [
    "### Usando la clase Field de pydantic\n",
    "\n",
    "    from pydantic import BaseModel, Field\n",
    "\n",
    "#### Modificando la clase Movie\n",
    "\n",
    "```py\n",
    "class Movie(BaseModel):\n",
    "    id: int | None = None\n",
    "#    id: Optional[int] = None\n",
    "    title: str = Field(default=\"movie title\", min_length=5, max_length=15)\n",
    "    year: int = Field(default=2022, le=2022)\n",
    "    rating: float = Field(ge=0, le=10)\n",
    "    category: str = Field(default=\"movie category\")\n",
    "```\n",
    "\n",
    "- El titulo tenga un minimo de 5 caracteres y un maximo de 15.\n",
    "- El titulo tenga un valor por defecto\n",
    "- El año menor o igual al 2022, y por defecto 2022\n",
    "\n",
    "![](https://i.imgur.com/feKe2st.png)"
   ]
  },
  {
   "cell_type": "markdown",
   "metadata": {},
   "source": [
    "Tambien es posible dar los valores por defecto, creando una nueva clase *Config* dentro del BaseModel, y dentro de dicha clase:\n",
    "\n",
    "```py\n",
    "    class Config:\n",
    "        schema_extra = {\n",
    "            \"example\": {\n",
    "                \"id\": 1,\n",
    "                \"title\": \"Mi película\",\n",
    "                \"overview\": \"Descripción de la película\",\n",
    "                \"year\": 2022,\n",
    "                \"rating\": 9.8,\n",
    "                \"category\" : \"Acción\"\n",
    "            }\n",
    "        }\n",
    "\n",
    "```\n",
    "\n",
    "Aunque a mi no me funciono. "
   ]
  },
  {
   "cell_type": "markdown",
   "metadata": {},
   "source": [
    "## Validaciones de parametros\n",
    "\n",
    "### Parametros de ruta\n",
    "\n",
    "Se importa la clase *Path*:\n",
    "\n",
    "    from fastapi import FastAPI, Body, Path\n",
    "\n",
    "Y se modifica, para que el parametro de ruta tenga un valor entre 0 y 200:\n",
    "\n",
    "    def get_movie(id: int = Path(ge=0, le=200)):\n",
    "\n",
    "\n",
    "Error an intentar colocar 2001 en la \n",
    "\n",
    "{\"detail\":[{\"type\":\"less_than_equal\",\"loc\":[\"path\",\"id\"],\"msg\":\"Input should be less than or equal to 200\",\"input\":\"2001\",\"ctx\":{\"le\":200},\"url\":\"https://errors.pydantic.dev/2.4/v/less_than_equal\"}]}"
   ]
  },
  {
   "cell_type": "markdown",
   "metadata": {},
   "source": [
    "### Parametros Query\n",
    "\n",
    "Se importa la clase Query:\n",
    "\n",
    "    from fastapi import FastAPI, Body, Path, Query\n",
    "\n",
    "Para que el parametro *category* sea minimo de 5 caracteres\n",
    "\n",
    "    def get_movies_by_category(category: str = Query(min_length=5)):"
   ]
  }
 ],
 "metadata": {
  "language_info": {
   "name": "python"
  }
 },
 "nbformat": 4,
 "nbformat_minor": 2
}
