{
 "cells": [
  {
   "cell_type": "markdown",
   "metadata": {},
   "source": [
    "# Path Operations"
   ]
  },
  {
   "cell_type": "markdown",
   "metadata": {},
   "source": [
    "## Metodo GET\n",
    "\n",
    "No solo podemos retornar strings, sino cualquier otra cosa, como una cadena de texto, un diccionario, o codigo *html*:\n",
    "\n",
    "Importar la clase *HTMLResponse*\n",
    "\n",
    "```python\n",
    "from fastapi.responses import HTMLResponse\n",
    "...\n",
    "...\n",
    "return HTMLResponse('<h1>Hello World</h1>')\n",
    "```\n",
    "\n",
    "### Creando un segundo endpoint\n",
    "\n",
    "```python\n",
    "@app.get('/movies', tags=['movies'])\n",
    "def get_movies():\n",
    "    return movies\n",
    "```\n",
    "\n",
    "Donde movies es un diccionario\n"
   ]
  }
 ],
 "metadata": {
  "language_info": {
   "name": "python"
  }
 },
 "nbformat": 4,
 "nbformat_minor": 2
}
