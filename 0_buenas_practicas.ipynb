{
 "cells": [
  {
   "cell_type": "markdown",
   "metadata": {},
   "source": [
    "# Curso de FastAPI: Introducción, Operaciones, Validaciones y Autenticación\n",
    "\n",
    "Instructor: Pablo España\n",
    "\n",
    "https://www.linkedin.com/in/pabloesdev/\n",
    "\n",
    "## Repositorio\n",
    "\n",
    "https://github.com/carlcri/fast-api-curso\n",
    "\n",
    "## Docker \n",
    "\n",
    "Se creo un *Dockerfile* y un *docker-compose.yml* de tal forma se trabajara en un servicio dockerizado de docker en lugar de mi maquina virtual, si asi se prefiere.\n",
    "\n",
    "Solo se debes ejecutar:\n",
    "\n",
    "    docker compose build\n",
    "    docker compose up\n",
    "\n",
    "Si quiere levantar el servicio en modo detach:\n",
    "\n",
    "    docker compose up -d\n",
    "\n",
    "Los cambios que realizes dentro del contexto de build, se veran reflejados en la aplicacion. \n"
   ]
  }
 ],
 "metadata": {
  "language_info": {
   "name": "python"
  }
 },
 "nbformat": 4,
 "nbformat_minor": 2
}
